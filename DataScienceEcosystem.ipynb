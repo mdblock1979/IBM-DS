{
 "cells": [
  {
   "cell_type": "markdown",
   "id": "332e39c9-5532-4ded-a668-11d559ae976c",
   "metadata": {},
   "source": [
    "# Data Science Tools and Ecosystems\n"
   ]
  },
  {
   "cell_type": "markdown",
   "id": "3f360ce1-caf5-4dce-99d7-5301212e718f",
   "metadata": {},
   "source": [
    "## Author\n",
    "Matt"
   ]
  },
  {
   "cell_type": "markdown",
   "id": "a7672eea-9b79-4d2b-9eba-f8312579ef33",
   "metadata": {},
   "source": [
    "In this notebook, Data Science Tools and Ecosystem are summarized.\n"
   ]
  },
  {
   "cell_type": "markdown",
   "id": "8e6ed5e1-3bf8-490d-81c5-ca62ce71fa3a",
   "metadata": {},
   "source": [
    "**Objectives:**\n",
    "- List popular languages for data science\n",
    "- List popular libraries data scientists use\n",
    "- List open-source data science tools"
   ]
  },
  {
   "cell_type": "markdown",
   "id": "4f6aae51-74d5-43aa-9031-0e27322db19f",
   "metadata": {
    "tags": []
   },
   "source": [
    "Some of the popular languages that Data Scientists use are:\n",
    "1. Python\n",
    "2. R\n",
    "3. c++"
   ]
  },
  {
   "cell_type": "markdown",
   "id": "cc9db633-f548-4b99-b56a-c2c83d761c98",
   "metadata": {},
   "source": [
    "Some of the commonly used libraries used by Data Scientists include:\n",
    "1. NumPy\n",
    "2. MatPlotLib\n",
    "3. Pandas\n"
   ]
  },
  {
   "cell_type": "markdown",
   "id": "07df717a-6b05-47b7-b198-280b6b2371b5",
   "metadata": {},
   "source": [
    "|Data Science Tools|\n",
    "|------------------|\n",
    "|Jupyter Notebooks|\n",
    "|VSCode|\n",
    "|R Studio|"
   ]
  },
  {
   "cell_type": "markdown",
   "id": "3a8e08ea-68a9-4a6b-8361-12d3c9ef7e41",
   "metadata": {},
   "source": [
    "### Below are a few examples of evaluating arithmetic expressions in Python.\n"
   ]
  },
  {
   "cell_type": "code",
   "execution_count": 2,
   "id": "11651e4f-40da-4ba1-96fc-d8c486d02e70",
   "metadata": {
    "tags": []
   },
   "outputs": [
    {
     "data": {
      "text/plain": [
       "17"
      ]
     },
     "execution_count": 2,
     "metadata": {},
     "output_type": "execute_result"
    }
   ],
   "source": [
    "##This a simple arithmetic expression to mutiply then add integers\n",
    "(3*4)+5"
   ]
  },
  {
   "cell_type": "code",
   "execution_count": 3,
   "id": "e09c575d-4b62-4769-aec5-ca5545a36ff4",
   "metadata": {
    "tags": []
   },
   "outputs": [
    {
     "data": {
      "text/plain": [
       "3.3333333333333335"
      ]
     },
     "execution_count": 3,
     "metadata": {},
     "output_type": "execute_result"
    }
   ],
   "source": [
    "##This will convert 200 minutes to hours by diving by 60.\n",
    "200/60"
   ]
  },
  {
   "cell_type": "code",
   "execution_count": null,
   "id": "0026c0d9-8cec-4224-a9ab-0bc851c824db",
   "metadata": {},
   "outputs": [],
   "source": []
  }
 ],
 "metadata": {
  "kernelspec": {
   "display_name": "Python",
   "language": "python",
   "name": "conda-env-python-py"
  },
  "language_info": {
   "codemirror_mode": {
    "name": "ipython",
    "version": 3
   },
   "file_extension": ".py",
   "mimetype": "text/x-python",
   "name": "python",
   "nbconvert_exporter": "python",
   "pygments_lexer": "ipython3",
   "version": "3.7.12"
  }
 },
 "nbformat": 4,
 "nbformat_minor": 5
}
